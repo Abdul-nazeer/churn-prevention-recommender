{
 "cells": [
  {
   "cell_type": "code",
   "execution_count": 1,
   "id": "9380c612-1293-4efd-bc1c-13a890c814f4",
   "metadata": {},
   "outputs": [
    {
     "name": "stdout",
     "output_type": "stream",
     "text": [
      "Defaulting to user installation because normal site-packages is not writeable\n",
      "Collecting catboost\n",
      "  Downloading catboost-1.2.7-cp312-cp312-win_amd64.whl.metadata (1.2 kB)\n",
      "Collecting graphviz (from catboost)\n",
      "  Downloading graphviz-0.20.3-py3-none-any.whl.metadata (12 kB)\n",
      "Requirement already satisfied: matplotlib in c:\\anaconda\\lib\\site-packages (from catboost) (3.9.2)\n",
      "Requirement already satisfied: numpy<2.0,>=1.16.0 in c:\\anaconda\\lib\\site-packages (from catboost) (1.26.4)\n",
      "Requirement already satisfied: pandas>=0.24 in c:\\anaconda\\lib\\site-packages (from catboost) (2.2.2)\n",
      "Requirement already satisfied: scipy in c:\\anaconda\\lib\\site-packages (from catboost) (1.13.1)\n",
      "Requirement already satisfied: plotly in c:\\anaconda\\lib\\site-packages (from catboost) (5.24.1)\n",
      "Requirement already satisfied: six in c:\\anaconda\\lib\\site-packages (from catboost) (1.16.0)\n",
      "Requirement already satisfied: python-dateutil>=2.8.2 in c:\\anaconda\\lib\\site-packages (from pandas>=0.24->catboost) (2.9.0.post0)\n",
      "Requirement already satisfied: pytz>=2020.1 in c:\\anaconda\\lib\\site-packages (from pandas>=0.24->catboost) (2024.1)\n",
      "Requirement already satisfied: tzdata>=2022.7 in c:\\anaconda\\lib\\site-packages (from pandas>=0.24->catboost) (2023.3)\n",
      "Requirement already satisfied: contourpy>=1.0.1 in c:\\anaconda\\lib\\site-packages (from matplotlib->catboost) (1.2.0)\n",
      "Requirement already satisfied: cycler>=0.10 in c:\\anaconda\\lib\\site-packages (from matplotlib->catboost) (0.11.0)\n",
      "Requirement already satisfied: fonttools>=4.22.0 in c:\\anaconda\\lib\\site-packages (from matplotlib->catboost) (4.51.0)\n",
      "Requirement already satisfied: kiwisolver>=1.3.1 in c:\\anaconda\\lib\\site-packages (from matplotlib->catboost) (1.4.4)\n",
      "Requirement already satisfied: packaging>=20.0 in c:\\anaconda\\lib\\site-packages (from matplotlib->catboost) (24.1)\n",
      "Requirement already satisfied: pillow>=8 in c:\\anaconda\\lib\\site-packages (from matplotlib->catboost) (10.4.0)\n",
      "Requirement already satisfied: pyparsing>=2.3.1 in c:\\anaconda\\lib\\site-packages (from matplotlib->catboost) (3.1.2)\n",
      "Requirement already satisfied: tenacity>=6.2.0 in c:\\anaconda\\lib\\site-packages (from plotly->catboost) (8.2.3)\n",
      "Downloading catboost-1.2.7-cp312-cp312-win_amd64.whl (101.7 MB)\n",
      "   ---------------------------------------- 0.0/101.7 MB ? eta -:--:--\n",
      "   ---------------------------------------- 0.0/101.7 MB ? eta -:--:--\n",
      "   ---------------------------------------- 0.3/101.7 MB ? eta -:--:--\n",
      "   ---------------------------------------- 0.3/101.7 MB ? eta -:--:--\n",
      "   ---------------------------------------- 0.3/101.7 MB ? eta -:--:--\n",
      "   ---------------------------------------- 0.8/101.7 MB 907.1 kB/s eta 0:01:52\n",
      "    --------------------------------------- 1.3/101.7 MB 1.4 MB/s eta 0:01:11\n",
      "    --------------------------------------- 1.8/101.7 MB 1.6 MB/s eta 0:01:02\n",
      "    --------------------------------------- 2.4/101.7 MB 1.8 MB/s eta 0:00:57\n",
      "   - -------------------------------------- 3.1/101.7 MB 2.0 MB/s eta 0:00:50\n",
      "   - -------------------------------------- 3.7/101.7 MB 2.1 MB/s eta 0:00:48\n",
      "   - -------------------------------------- 4.2/101.7 MB 2.2 MB/s eta 0:00:46\n",
      "   - -------------------------------------- 4.7/101.7 MB 2.2 MB/s eta 0:00:45\n",
      "   -- ------------------------------------- 5.2/101.7 MB 2.2 MB/s eta 0:00:43\n",
      "   -- ------------------------------------- 6.0/101.7 MB 2.3 MB/s eta 0:00:42\n",
      "   -- ------------------------------------- 6.6/101.7 MB 2.3 MB/s eta 0:00:42\n",
      "   -- ------------------------------------- 7.1/101.7 MB 2.4 MB/s eta 0:00:40\n",
      "   -- ------------------------------------- 7.6/101.7 MB 2.4 MB/s eta 0:00:40\n",
      "   --- ------------------------------------ 8.1/101.7 MB 2.4 MB/s eta 0:00:40\n",
      "   --- ------------------------------------ 8.7/101.7 MB 2.4 MB/s eta 0:00:40\n",
      "   --- ------------------------------------ 9.4/101.7 MB 2.4 MB/s eta 0:00:38\n",
      "   --- ------------------------------------ 10.0/101.7 MB 2.5 MB/s eta 0:00:38\n",
      "   ---- ----------------------------------- 10.5/101.7 MB 2.5 MB/s eta 0:00:37\n",
      "   ---- ----------------------------------- 11.3/101.7 MB 2.5 MB/s eta 0:00:36\n",
      "   ---- ----------------------------------- 11.8/101.7 MB 2.5 MB/s eta 0:00:36\n",
      "   ---- ----------------------------------- 12.3/101.7 MB 2.5 MB/s eta 0:00:36\n",
      "   ----- ---------------------------------- 13.1/101.7 MB 2.6 MB/s eta 0:00:35\n",
      "   ----- ---------------------------------- 13.4/101.7 MB 2.6 MB/s eta 0:00:35\n",
      "   ----- ---------------------------------- 14.2/101.7 MB 2.6 MB/s eta 0:00:34\n",
      "   ----- ---------------------------------- 14.9/101.7 MB 2.6 MB/s eta 0:00:34\n",
      "   ------ --------------------------------- 15.7/101.7 MB 2.6 MB/s eta 0:00:33\n",
      "   ------ --------------------------------- 16.0/101.7 MB 2.6 MB/s eta 0:00:33\n",
      "   ------ --------------------------------- 16.5/101.7 MB 2.6 MB/s eta 0:00:33\n",
      "   ------ --------------------------------- 16.8/101.7 MB 2.6 MB/s eta 0:00:33\n",
      "   ------ --------------------------------- 17.3/101.7 MB 2.6 MB/s eta 0:00:33\n",
      "   ------- -------------------------------- 18.1/101.7 MB 2.6 MB/s eta 0:00:33\n",
      "   ------- -------------------------------- 18.4/101.7 MB 2.6 MB/s eta 0:00:33\n",
      "   ------- -------------------------------- 19.4/101.7 MB 2.6 MB/s eta 0:00:32\n",
      "   ------- -------------------------------- 19.9/101.7 MB 2.6 MB/s eta 0:00:32\n",
      "   -------- ------------------------------- 20.7/101.7 MB 2.6 MB/s eta 0:00:31\n",
      "   -------- ------------------------------- 21.5/101.7 MB 2.7 MB/s eta 0:00:30\n",
      "   -------- ------------------------------- 22.0/101.7 MB 2.7 MB/s eta 0:00:30\n",
      "   -------- ------------------------------- 22.5/101.7 MB 2.7 MB/s eta 0:00:30\n",
      "   --------- ------------------------------ 23.3/101.7 MB 2.7 MB/s eta 0:00:29\n",
      "   --------- ------------------------------ 24.4/101.7 MB 2.7 MB/s eta 0:00:29\n",
      "   --------- ------------------------------ 24.9/101.7 MB 2.8 MB/s eta 0:00:28\n",
      "   ---------- ----------------------------- 25.7/101.7 MB 2.8 MB/s eta 0:00:28\n",
      "   ---------- ----------------------------- 25.7/101.7 MB 2.8 MB/s eta 0:00:28\n",
      "   ---------- ----------------------------- 26.2/101.7 MB 2.7 MB/s eta 0:00:28\n",
      "   ---------- ----------------------------- 27.0/101.7 MB 2.7 MB/s eta 0:00:28\n",
      "   ---------- ----------------------------- 27.8/101.7 MB 2.8 MB/s eta 0:00:27\n",
      "   ----------- ---------------------------- 28.8/101.7 MB 2.8 MB/s eta 0:00:27\n",
      "   ----------- ---------------------------- 29.4/101.7 MB 2.8 MB/s eta 0:00:26\n",
      "   ----------- ---------------------------- 30.4/101.7 MB 2.8 MB/s eta 0:00:26\n",
      "   ------------ --------------------------- 31.2/101.7 MB 2.9 MB/s eta 0:00:25\n",
      "   ------------ --------------------------- 32.0/101.7 MB 2.9 MB/s eta 0:00:25\n",
      "   ------------ --------------------------- 32.5/101.7 MB 2.9 MB/s eta 0:00:25\n",
      "   ------------- -------------------------- 33.6/101.7 MB 2.9 MB/s eta 0:00:24\n",
      "   ------------- -------------------------- 34.6/101.7 MB 2.9 MB/s eta 0:00:23\n",
      "   ------------- -------------------------- 35.1/101.7 MB 2.9 MB/s eta 0:00:23\n",
      "   -------------- ------------------------- 36.2/101.7 MB 3.0 MB/s eta 0:00:23\n",
      "   -------------- ------------------------- 37.0/101.7 MB 3.0 MB/s eta 0:00:22\n",
      "   --------------- ------------------------ 38.3/101.7 MB 3.0 MB/s eta 0:00:21\n",
      "   --------------- ------------------------ 39.1/101.7 MB 3.0 MB/s eta 0:00:21\n",
      "   --------------- ------------------------ 39.8/101.7 MB 3.1 MB/s eta 0:00:21\n",
      "   ---------------- ----------------------- 40.9/101.7 MB 3.1 MB/s eta 0:00:20\n",
      "   ---------------- ----------------------- 41.4/101.7 MB 3.1 MB/s eta 0:00:20\n",
      "   ---------------- ----------------------- 42.5/101.7 MB 3.1 MB/s eta 0:00:20\n",
      "   ----------------- ---------------------- 43.5/101.7 MB 3.1 MB/s eta 0:00:19\n",
      "   ----------------- ---------------------- 45.1/101.7 MB 3.2 MB/s eta 0:00:18\n",
      "   ------------------ --------------------- 45.9/101.7 MB 3.2 MB/s eta 0:00:18\n",
      "   ------------------ --------------------- 46.7/101.7 MB 3.2 MB/s eta 0:00:18\n",
      "   ------------------ --------------------- 47.4/101.7 MB 3.2 MB/s eta 0:00:17\n",
      "   ------------------- -------------------- 48.8/101.7 MB 3.3 MB/s eta 0:00:17\n",
      "   ------------------- -------------------- 50.9/101.7 MB 3.4 MB/s eta 0:00:16\n",
      "   -------------------- ------------------- 52.2/101.7 MB 3.4 MB/s eta 0:00:15\n",
      "   --------------------- ------------------ 53.7/101.7 MB 3.5 MB/s eta 0:00:14\n",
      "   --------------------- ------------------ 55.1/101.7 MB 3.5 MB/s eta 0:00:14\n",
      "   ---------------------- ----------------- 56.4/101.7 MB 3.5 MB/s eta 0:00:13\n",
      "   ---------------------- ----------------- 57.9/101.7 MB 3.6 MB/s eta 0:00:13\n",
      "   ----------------------- ---------------- 59.0/101.7 MB 3.6 MB/s eta 0:00:12\n",
      "   ----------------------- ---------------- 60.8/101.7 MB 3.7 MB/s eta 0:00:12\n",
      "   ------------------------ --------------- 62.1/101.7 MB 3.7 MB/s eta 0:00:11\n",
      "   ------------------------ --------------- 63.2/101.7 MB 3.7 MB/s eta 0:00:11\n",
      "   ------------------------- -------------- 64.2/101.7 MB 3.7 MB/s eta 0:00:11\n",
      "   ------------------------- -------------- 65.0/101.7 MB 3.8 MB/s eta 0:00:10\n",
      "   ------------------------- -------------- 66.1/101.7 MB 3.8 MB/s eta 0:00:10\n",
      "   -------------------------- ------------- 67.1/101.7 MB 3.8 MB/s eta 0:00:10\n",
      "   -------------------------- ------------- 67.9/101.7 MB 3.8 MB/s eta 0:00:09\n",
      "   --------------------------- ------------ 68.7/101.7 MB 3.8 MB/s eta 0:00:09\n",
      "   --------------------------- ------------ 70.0/101.7 MB 3.8 MB/s eta 0:00:09\n",
      "   --------------------------- ------------ 70.8/101.7 MB 3.8 MB/s eta 0:00:09\n",
      "   ---------------------------- ----------- 71.6/101.7 MB 3.8 MB/s eta 0:00:08\n",
      "   ---------------------------- ----------- 72.1/101.7 MB 3.8 MB/s eta 0:00:08\n",
      "   ---------------------------- ----------- 72.9/101.7 MB 3.8 MB/s eta 0:00:08\n",
      "   ---------------------------- ----------- 73.7/101.7 MB 3.8 MB/s eta 0:00:08\n",
      "   ----------------------------- ---------- 74.2/101.7 MB 3.8 MB/s eta 0:00:08\n",
      "   ----------------------------- ---------- 74.4/101.7 MB 3.8 MB/s eta 0:00:08\n",
      "   ----------------------------- ---------- 74.4/101.7 MB 3.8 MB/s eta 0:00:08\n",
      "   ----------------------------- ---------- 74.7/101.7 MB 3.7 MB/s eta 0:00:08\n",
      "   ----------------------------- ---------- 74.7/101.7 MB 3.7 MB/s eta 0:00:08\n",
      "   ----------------------------- ---------- 75.0/101.7 MB 3.6 MB/s eta 0:00:08\n",
      "   ----------------------------- ---------- 75.0/101.7 MB 3.6 MB/s eta 0:00:08\n",
      "   ----------------------------- ---------- 75.0/101.7 MB 3.6 MB/s eta 0:00:08\n",
      "   ----------------------------- ---------- 75.2/101.7 MB 3.5 MB/s eta 0:00:08\n",
      "   ----------------------------- ---------- 75.5/101.7 MB 3.5 MB/s eta 0:00:08\n",
      "   ----------------------------- ---------- 75.8/101.7 MB 3.5 MB/s eta 0:00:08\n",
      "   ----------------------------- ---------- 75.8/101.7 MB 3.5 MB/s eta 0:00:08\n",
      "   ----------------------------- ---------- 75.8/101.7 MB 3.5 MB/s eta 0:00:08\n",
      "   ----------------------------- ---------- 76.3/101.7 MB 3.4 MB/s eta 0:00:08\n",
      "   ------------------------------ --------- 76.8/101.7 MB 3.4 MB/s eta 0:00:08\n",
      "   ------------------------------ --------- 77.3/101.7 MB 3.4 MB/s eta 0:00:08\n",
      "   ------------------------------ --------- 78.1/101.7 MB 3.4 MB/s eta 0:00:07\n",
      "   ------------------------------ --------- 78.6/101.7 MB 3.4 MB/s eta 0:00:07\n",
      "   ------------------------------- -------- 79.2/101.7 MB 3.4 MB/s eta 0:00:07\n",
      "   ------------------------------- -------- 80.2/101.7 MB 3.4 MB/s eta 0:00:07\n",
      "   ------------------------------- -------- 80.7/101.7 MB 3.4 MB/s eta 0:00:07\n",
      "   -------------------------------- ------- 81.8/101.7 MB 3.4 MB/s eta 0:00:06\n",
      "   -------------------------------- ------- 82.6/101.7 MB 3.4 MB/s eta 0:00:06\n",
      "   -------------------------------- ------- 83.4/101.7 MB 3.4 MB/s eta 0:00:06\n",
      "   --------------------------------- ------ 84.4/101.7 MB 3.4 MB/s eta 0:00:06\n",
      "   --------------------------------- ------ 85.2/101.7 MB 3.4 MB/s eta 0:00:05\n",
      "   --------------------------------- ------ 86.2/101.7 MB 3.4 MB/s eta 0:00:05\n",
      "   ---------------------------------- ----- 87.0/101.7 MB 3.4 MB/s eta 0:00:05\n",
      "   ---------------------------------- ----- 87.8/101.7 MB 3.5 MB/s eta 0:00:05\n",
      "   ---------------------------------- ----- 88.9/101.7 MB 3.5 MB/s eta 0:00:04\n",
      "   ----------------------------------- ---- 89.4/101.7 MB 3.5 MB/s eta 0:00:04\n",
      "   ----------------------------------- ---- 90.2/101.7 MB 3.5 MB/s eta 0:00:04\n",
      "   ----------------------------------- ---- 90.4/101.7 MB 3.4 MB/s eta 0:00:04\n",
      "   ----------------------------------- ---- 91.2/101.7 MB 3.4 MB/s eta 0:00:04\n",
      "   ------------------------------------ --- 92.0/101.7 MB 3.4 MB/s eta 0:00:03\n",
      "   ------------------------------------ --- 93.1/101.7 MB 3.5 MB/s eta 0:00:03\n",
      "   ------------------------------------ --- 93.6/101.7 MB 3.5 MB/s eta 0:00:03\n",
      "   ------------------------------------- -- 94.1/101.7 MB 3.5 MB/s eta 0:00:03\n",
      "   ------------------------------------- -- 94.6/101.7 MB 3.4 MB/s eta 0:00:03\n",
      "   ------------------------------------- -- 95.2/101.7 MB 3.4 MB/s eta 0:00:02\n",
      "   ------------------------------------- -- 96.5/101.7 MB 3.4 MB/s eta 0:00:02\n",
      "   -------------------------------------- - 97.3/101.7 MB 3.5 MB/s eta 0:00:02\n",
      "   -------------------------------------- - 98.3/101.7 MB 3.5 MB/s eta 0:00:01\n",
      "   -------------------------------------- - 98.8/101.7 MB 3.5 MB/s eta 0:00:01\n",
      "   ---------------------------------------  99.9/101.7 MB 3.5 MB/s eta 0:00:01\n",
      "   ---------------------------------------  100.7/101.7 MB 3.5 MB/s eta 0:00:01\n",
      "   ---------------------------------------  101.7/101.7 MB 3.5 MB/s eta 0:00:01\n",
      "   ---------------------------------------- 101.7/101.7 MB 3.5 MB/s eta 0:00:00\n",
      "Downloading graphviz-0.20.3-py3-none-any.whl (47 kB)\n",
      "Installing collected packages: graphviz, catboost\n",
      "Successfully installed catboost-1.2.7 graphviz-0.20.3\n",
      "Defaulting to user installation because normal site-packages is not writeable\n",
      "Collecting imblearn\n",
      "  Downloading imblearn-0.0-py2.py3-none-any.whl.metadata (355 bytes)\n",
      "Requirement already satisfied: imbalanced-learn in c:\\anaconda\\lib\\site-packages (from imblearn) (0.12.3)\n",
      "Requirement already satisfied: numpy>=1.17.3 in c:\\anaconda\\lib\\site-packages (from imbalanced-learn->imblearn) (1.26.4)\n",
      "Requirement already satisfied: scipy>=1.5.0 in c:\\anaconda\\lib\\site-packages (from imbalanced-learn->imblearn) (1.13.1)\n",
      "Requirement already satisfied: scikit-learn>=1.0.2 in c:\\anaconda\\lib\\site-packages (from imbalanced-learn->imblearn) (1.5.1)\n",
      "Requirement already satisfied: joblib>=1.1.1 in c:\\anaconda\\lib\\site-packages (from imbalanced-learn->imblearn) (1.4.2)\n",
      "Requirement already satisfied: threadpoolctl>=2.0.0 in c:\\anaconda\\lib\\site-packages (from imbalanced-learn->imblearn) (3.5.0)\n",
      "Downloading imblearn-0.0-py2.py3-none-any.whl (1.9 kB)\n",
      "Installing collected packages: imblearn\n",
      "Successfully installed imblearn-0.0\n"
     ]
    }
   ],
   "source": [
    "!pip install catboost\n",
    "!pip install imblearn"
   ]
  },
  {
   "cell_type": "code",
   "execution_count": 3,
   "id": "55b46d5f-ba4e-4094-80c7-bf0538f8482e",
   "metadata": {},
   "outputs": [
    {
     "name": "stdout",
     "output_type": "stream",
     "text": [
      "no. of churned customer : \n",
      "1869\n",
      "\n",
      "no. of satisfied customer : \n",
      "5174\n",
      "\n",
      "total consumers : \n",
      "7043\n"
     ]
    }
   ],
   "source": [
    "import pandas as pd\n",
    "df = pd.read_csv(r\"C:\\Users\\roxna\\Desktop\\Churn_Analysis\\WA_Fn-UseC_-Telco-Customer-Churn.csv\")\n",
    "\n",
    "print(\"no. of churned customer : \" )\n",
    "print(df[df['Churn']=='Yes'].value_counts().sum())\n",
    "print(\"\\nno. of satisfied customer : \" )\n",
    "print(df[df['Churn']=='No'].value_counts().sum())\n",
    "\n",
    "print(\"\\ntotal consumers : \")\n",
    "print(df.shape[0])"
   ]
  },
  {
   "cell_type": "code",
   "execution_count": 5,
   "id": "49526f37-222c-4f3a-9e9b-4b7a6aa17646",
   "metadata": {},
   "outputs": [
    {
     "name": "stdout",
     "output_type": "stream",
     "text": [
      "<class 'pandas.core.frame.DataFrame'>\n",
      "RangeIndex: 7043 entries, 0 to 7042\n",
      "Data columns (total 21 columns):\n",
      " #   Column            Non-Null Count  Dtype  \n",
      "---  ------            --------------  -----  \n",
      " 0   customerID        7043 non-null   object \n",
      " 1   gender            7043 non-null   object \n",
      " 2   SeniorCitizen     7043 non-null   int64  \n",
      " 3   Partner           7043 non-null   object \n",
      " 4   Dependents        7043 non-null   object \n",
      " 5   tenure            7043 non-null   int64  \n",
      " 6   PhoneService      7043 non-null   object \n",
      " 7   MultipleLines     7043 non-null   object \n",
      " 8   InternetService   7043 non-null   object \n",
      " 9   OnlineSecurity    7043 non-null   object \n",
      " 10  OnlineBackup      7043 non-null   object \n",
      " 11  DeviceProtection  7043 non-null   object \n",
      " 12  TechSupport       7043 non-null   object \n",
      " 13  StreamingTV       7043 non-null   object \n",
      " 14  StreamingMovies   7043 non-null   object \n",
      " 15  Contract          7043 non-null   object \n",
      " 16  PaperlessBilling  7043 non-null   object \n",
      " 17  PaymentMethod     7043 non-null   object \n",
      " 18  MonthlyCharges    7043 non-null   float64\n",
      " 19  TotalCharges      7043 non-null   object \n",
      " 20  Churn             7043 non-null   object \n",
      "dtypes: float64(1), int64(2), object(18)\n",
      "memory usage: 1.1+ MB\n",
      "None\n"
     ]
    }
   ],
   "source": [
    "print(df.info())"
   ]
  },
  {
   "cell_type": "code",
   "execution_count": 7,
   "id": "bc9c0ee2-4aec-479f-84a4-693fc2b73e95",
   "metadata": {},
   "outputs": [
    {
     "name": "stdout",
     "output_type": "stream",
     "text": [
      "      customerID gender  SeniorCitizen Partner Dependents  tenure  \\\n",
      "6825  5022-KVDQT   Male              0      No         No      27   \n",
      "2660  5639-NTUPK   Male              0      No        Yes      13   \n",
      "4308  7504-UWHNB   Male              0      No         No      25   \n",
      "6224  2330-PQGDQ   Male              0     Yes        Yes      51   \n",
      "5974  7094-MSZAO   Male              0     Yes        Yes      10   \n",
      "\n",
      "     PhoneService MultipleLines InternetService       OnlineSecurity  ...  \\\n",
      "6825          Yes           Yes     Fiber optic                   No  ...   \n",
      "2660          Yes            No             DSL                  Yes  ...   \n",
      "4308          Yes            No     Fiber optic                   No  ...   \n",
      "6224          Yes           Yes     Fiber optic                   No  ...   \n",
      "5974          Yes            No              No  No internet service  ...   \n",
      "\n",
      "         DeviceProtection          TechSupport          StreamingTV  \\\n",
      "6825                  Yes                   No                   No   \n",
      "2660                   No                   No                   No   \n",
      "4308                   No                   No                   No   \n",
      "6224                   No                  Yes                   No   \n",
      "5974  No internet service  No internet service  No internet service   \n",
      "\n",
      "          StreamingMovies        Contract PaperlessBilling  \\\n",
      "6825                   No  Month-to-month              Yes   \n",
      "2660                   No  Month-to-month              Yes   \n",
      "4308                   No  Month-to-month               No   \n",
      "6224                   No        One year               No   \n",
      "5974  No internet service  Month-to-month              Yes   \n",
      "\n",
      "                  PaymentMethod MonthlyCharges  TotalCharges Churn  \n",
      "6825           Electronic check          81.30        2272.8    No  \n",
      "2660    Credit card (automatic)          52.10        670.65    No  \n",
      "4308           Electronic check          69.75       1729.35    No  \n",
      "6224  Bank transfer (automatic)          84.20       4299.75    No  \n",
      "5974    Credit card (automatic)          20.05         218.5    No  \n",
      "\n",
      "[5 rows x 21 columns]\n"
     ]
    }
   ],
   "source": [
    "print(df.sample(5))"
   ]
  },
  {
   "cell_type": "code",
   "execution_count": 9,
   "id": "60700421-59ae-4858-a7c5-281429f94402",
   "metadata": {},
   "outputs": [],
   "source": [
    "import pandas as pd\n",
    "import numpy as np\n",
    "import seaborn as sns\n",
    "from sklearn.preprocessing import StandardScaler, LabelEncoder\n",
    "from catboost import CatBoostClassifier\n",
    "from sklearn.metrics import (confusion_matrix, classification_report, accuracy_score, precision_score, roc_auc_score, f1_score, recall_score, roc_curve, auc, balanced_accuracy_score)\n",
    "from sklearn.model_selection import train_test_split\n",
    "import matplotlib.pyplot as plt\n",
    "from sklearn.pipeline import Pipeline\n",
    "from sklearn.compose import ColumnTransformer\n",
    "from sklearn.preprocessing import OneHotEncoder\n",
    "from sklearn.model_selection import GridSearchCV\n",
    "from imblearn.over_sampling import SMOTE\n",
    "from sklearn.metrics.pairwise import cosine_similarity"
   ]
  },
  {
   "cell_type": "code",
   "execution_count": 11,
   "id": "89157d4e-a168-46e3-be0f-5722ba77f933",
   "metadata": {},
   "outputs": [
    {
     "name": "stderr",
     "output_type": "stream",
     "text": [
      "C:\\Users\\roxna\\AppData\\Local\\Temp\\ipykernel_33680\\156400559.py:3: FutureWarning: A value is trying to be set on a copy of a DataFrame or Series through chained assignment using an inplace method.\n",
      "The behavior will change in pandas 3.0. This inplace method will never work because the intermediate object on which we are setting values always behaves as a copy.\n",
      "\n",
      "For example, when doing 'df[col].method(value, inplace=True)', try using 'df.method({col: value}, inplace=True)' or df[col] = df[col].method(value) instead, to perform the operation inplace on the original object.\n",
      "\n",
      "\n",
      "  df['TotalCharges'].fillna(df['TotalCharges'].mean(), inplace=True)\n"
     ]
    }
   ],
   "source": [
    "df.drop('customerID', axis=1, inplace=True)\n",
    "df['TotalCharges'] = pd.to_numeric(df['TotalCharges'], errors='coerce')\n",
    "df['TotalCharges'].fillna(df['TotalCharges'].mean(), inplace=True)"
   ]
  },
  {
   "cell_type": "code",
   "execution_count": 13,
   "id": "54099747-b703-4e86-8358-9e3beaec3884",
   "metadata": {},
   "outputs": [],
   "source": [
    "df['MultipleLines'] = df['MultipleLines'].replace('No phone service', 'No')\n",
    "df = df.replace('No internet service', 'No')\n",
    "\n",
    "internet_columns = ['MultipleLines', 'InternetService', 'OnlineSecurity', 'OnlineBackup',\n",
    "                    'DeviceProtection', 'TechSupport', 'StreamingTV', 'StreamingMovies']\n",
    "\n",
    "# df = df.replace({'Yes': 1, 'No': 0})....................reduces accuracy maybe alters column which is not needed to be altered.\n",
    "columns = [\"Partner\",\"Dependents\",\"PhoneService\",\"OnlineSecurity\",\"OnlineBackup\",\"DeviceProtection\",\"TechSupport\",\"StreamingTV\",\"StreamingMovies\", \"PaperlessBilling\", \"Churn\" ]\n",
    "for i in columns:\n",
    "  df[i] = df[i].map({'Yes': 1, 'No': 0})"
   ]
  },
  {
   "cell_type": "code",
   "execution_count": 15,
   "id": "36ae81f0-5a5d-4bc7-a3e7-5b2fc7d3545e",
   "metadata": {},
   "outputs": [],
   "source": [
    "binary_columns = ['gender']\n",
    "le = LabelEncoder()\n",
    "df[binary_columns] = df[binary_columns].apply(le.fit_transform)\n",
    "df = pd.get_dummies(df, columns=['MultipleLines', 'InternetService', 'Contract', 'PaymentMethod'])\n",
    "\n",
    "scaler = StandardScaler()\n",
    "numerical_features = ['tenure', 'MonthlyCharges', 'TotalCharges']\n",
    "df[numerical_features] = scaler.fit_transform(df[numerical_features])"
   ]
  },
  {
   "cell_type": "code",
   "execution_count": 17,
   "id": "1bfaf9b4-e7b5-4da3-b81b-25031e45c4b2",
   "metadata": {},
   "outputs": [],
   "source": [
    "X = df.drop('Churn', axis=1)\n",
    "y = df['Churn']\n",
    "smote = SMOTE(random_state=50)\n",
    "X_res, y_res = smote.fit_resample(X, y)\n",
    "X_train, X_test, y_train, y_test = train_test_split(X_res, y_res, test_size=0.2, random_state=48) #42 #48 - 0.8555555555555555    "
   ]
  },
  {
   "cell_type": "code",
   "execution_count": 24,
   "id": "496bf37e-01e8-4aeb-ac0c-f2cb61ac566f",
   "metadata": {},
   "outputs": [],
   "source": [
    "from sklearn.linear_model import LogisticRegression\n",
    "from sklearn.neighbors import KNeighborsClassifier\n",
    "from sklearn.pipeline import Pipeline\n",
    "from sklearn.compose import ColumnTransformer\n",
    "from sklearn.preprocessing import OneHotEncoder\n",
    "from sklearn.svm import SVC\n",
    "from catboost import CatBoostClassifier\n",
    "from sklearn.ensemble import GradientBoostingClassifier\n",
    "from sklearn.tree import DecisionTreeClassifier\n",
    "from sklearn.model_selection import train_test_split, KFold, GridSearchCV, RandomizedSearchCV, cross_val_score,cross_val_predict\n",
    "from sklearn.ensemble import RandomForestClassifier\n",
    "from xgboost import XGBClassifier"
   ]
  },
  {
   "cell_type": "code",
   "execution_count": 26,
   "id": "eaff4640-e769-4d56-8843-d6962097d8f9",
   "metadata": {},
   "outputs": [
    {
     "name": "stdout",
     "output_type": "stream",
     "text": [
      "Logistice Regression: Accuracy = 0.804913 \n",
      "K-nearest Neighbours: Accuracy = 0.765582 \n",
      "Decision Tree: Accuracy = 0.723408 \n",
      "Random Forest: Accuracy = 0.793834 \n",
      "Support Vector Machine: Accuracy = 0.798522 \n",
      "Gradient Boosting: Accuracy = 0.802780 \n"
     ]
    }
   ],
   "source": [
    "models = [('Logistice Regression', LogisticRegression(random_state=123456)),\n",
    "          ('K-nearest Neighbours', KNeighborsClassifier()),\n",
    "          ('Decision Tree', DecisionTreeClassifier(random_state=123456)),\n",
    "          ('Random Forest', RandomForestClassifier(random_state=123456)),\n",
    "          ('Support Vector Machine', SVC(gamma='auto',random_state=123456)),\n",
    "          ('Gradient Boosting', GradientBoostingClassifier(random_state = 12345))          ]\n",
    "results = []\n",
    "names = []\n",
    "for name, model in models:\n",
    "    kfold = KFold(n_splits=10, random_state=123456, shuffle = True)\n",
    "    cv_results = cross_val_score(model, X, y, cv=kfold)\n",
    "    results.append(cv_results)\n",
    "    names.append(name)\n",
    "    msg = \"%s: Accuracy = %f \" % (name, cv_results.mean())\n",
    "    print(msg)"
   ]
  },
  {
   "cell_type": "code",
   "execution_count": 28,
   "id": "f537e3ec-009c-4de9-aeac-79bc9bbb497d",
   "metadata": {},
   "outputs": [
    {
     "name": "stdout",
     "output_type": "stream",
     "text": [
      "Accuracy of CatBoost Model after SMOTE: 0.8565217391304348\n"
     ]
    }
   ],
   "source": [
    "catboost_model = CatBoostClassifier(iterations=1000, depth=9, learning_rate=0.11, loss_function='Logloss', verbose=0)\n",
    "catboost_model.fit(X_train, y_train)\n",
    "y_pred = catboost_model.predict(X_test)\n",
    "accuracy = accuracy_score(y_test, y_pred)\n",
    "print(\"Accuracy of CatBoost Model after SMOTE:\", accuracy)"
   ]
  },
  {
   "cell_type": "code",
   "execution_count": 30,
   "id": "fb1427f3-46c9-46df-b33c-403f7b273c26",
   "metadata": {},
   "outputs": [
    {
     "name": "stdout",
     "output_type": "stream",
     "text": [
      "Random Forest Accuracy: 0.8531400966183574\n",
      "Gradient boosting Accuracy: 0.8541062801932368\n",
      "XGBoost Accuracy: 0.8507246376811595\n"
     ]
    }
   ],
   "source": [
    "model = RandomForestClassifier(random_state=52)\n",
    "model.fit(X_train, y_train)\n",
    "y_pred = model.predict(X_test)\n",
    "print(f\"Random Forest Accuracy: {accuracy_score(y_test, y_pred)}\")\n",
    "\n",
    "# .........................................................................................................\n",
    "\n",
    "gb_model = GradientBoostingClassifier(learning_rate = 0.1, random_state = 50, n_estimators = 200, min_samples_split = 6, max_depth = 7)\n",
    "gb_model.fit(X_train, y_train)\n",
    "gb_y_pred = gb_model.predict(X_test)\n",
    "print(f\"Gradient boosting Accuracy: {accuracy_score(y_test, gb_y_pred)}\")\n",
    "\n",
    "# .........................................................................................................\n",
    "\n",
    "xgb_model = XGBClassifier(learning_rate=0.1, random_state=100, n_estimators=100, subsample=0.8, max_depth=9)\n",
    "xgb_model.fit(X_train, y_train)\n",
    "xgb_y_pred = xgb_model.predict(X_test)\n",
    "print(f\"XGBoost Accuracy: {accuracy_score(y_test, xgb_y_pred)}\")"
   ]
  },
  {
   "cell_type": "code",
   "execution_count": 32,
   "id": "e8bc7139-b4b6-433e-9bf6-8200522e4c59",
   "metadata": {},
   "outputs": [
    {
     "name": "stdout",
     "output_type": "stream",
     "text": [
      "CatBoost Model result:\n",
      "               precision    recall  f1-score   support\n",
      "\n",
      "           0       0.85      0.85      0.85       976\n",
      "           1       0.86      0.87      0.86      1094\n",
      "\n",
      "    accuracy                           0.86      2070\n",
      "   macro avg       0.86      0.86      0.86      2070\n",
      "weighted avg       0.86      0.86      0.86      2070\n",
      "\n"
     ]
    }
   ],
   "source": [
    "catboost_model = CatBoostClassifier(iterations=1000, depth=9, learning_rate=0.11, loss_function='Logloss', verbose=0)\n",
    "catboost_model.fit(X_train, y_train)\n",
    "y_pred = catboost_model.predict(X_test)\n",
    "classification_report = classification_report(y_test, y_pred)\n",
    "print(\"CatBoost Model result:\\n\", classification_report)"
   ]
  },
  {
   "cell_type": "code",
   "execution_count": 34,
   "id": "cb7afaa9-d2dd-4366-a280-0edbbb4f4104",
   "metadata": {},
   "outputs": [
    {
     "data": {
      "image/png": "[encoded data removed]",
      "text/plain": [
       "<Figure size 1000x600 with 1 Axes>"
      ]
     },
     "metadata": {},
     "output_type": "display_data"
    }
   ],
   "source": [
    "feature_importances = catboost_model.get_feature_importance()\n",
    "features = X_train.columns\n",
    "\n",
    "importance_df = pd.DataFrame({\n",
    "    'Features': features,\n",
    "    'Importance': feature_importances })\n",
    "importance_df = importance_df.sort_values(by='Importance', ascending=False)\n",
    "\n",
    "\n",
    "plt.figure(figsize=(10, 6))\n",
    "sns.barplot(x='Importance', y='Features', data=importance_df)\n",
    "plt.title('Most important Features affecting Churn')\n",
    "plt.xlabel('----------------------------- Importance --------------------->')\n",
    "plt.ylabel('------------------------------ Features ---------------------->')\n",
    "plt.show()"
   ]
  },
  {
   "cell_type": "code",
   "execution_count": 36,
   "id": "5047eb47-e33b-4111-be2c-39840fc36904",
   "metadata": {},
   "outputs": [],
   "source": [
    "def create_customer_profiles(X):\n",
    "    return X\n",
    "\n",
    "\n",
    "def get_similar_customers(customer_profiles, target_customer_idx, n=5):\n",
    "    similarity_matrix = cosine_similarity(customer_profiles)\n",
    "    similar_indices = similarity_matrix[target_customer_idx].argsort()[::-1][1:n+1]\n",
    "    return similar_indices"
   ]
  },
  {
   "cell_type": "code",
   "execution_count": 40,
   "id": "2933e2f7-9770-4355-adcd-33b584fcd9b7",
   "metadata": {},
   "outputs": [],
   "source": [
    "def generate_recommendations(X, y, customer_profiles, target_customer_idx):\n",
    "    similar_customers = get_similar_customers(customer_profiles, target_customer_idx)\n",
    "    non_churned_similar = [idx for idx in similar_customers if y[idx] == 0]\n",
    "\n",
    "    if not non_churned_similar:\n",
    "        return None\n",
    "    current_customer = X.iloc[target_customer_idx]\n",
    "    similar_customers_data = X.iloc[non_churned_similar]\n",
    "\n",
    "    recommendations = {}\n",
    "    # ...........................Recommendation based on Contract period...............................\n",
    "    contract_columns = [col for col in X.columns if 'Contract_' in col]\n",
    "    current_contract = [col for col in contract_columns if current_customer[col] == 1][0].split('_')[1]\n",
    "    avg_contract_usage = similar_customers_data[contract_columns].mean()\n",
    "    recommended_contract = avg_contract_usage.idxmax().split('_')[1]\n",
    "\n",
    "    if current_contract == 'Month-to-month':\n",
    "        recommendations['Contract'] = \"Consider offering a discounted long-term contract\"\n",
    "\n",
    "    #............................Recommendation based on Internet services used.........................\n",
    "    internet_columns = [col for col in X.columns if 'InternetService_' in col]\n",
    "    current_internet = [col for col in internet_columns if current_customer[col] == 1]\n",
    "    current_internet = current_internet[0].split('_')[1] if current_internet else 'None'\n",
    "\n",
    "    if current_internet == 'DSL':\n",
    "        recommendations['InternetService'] = \"Upgrade to Fiber optic service with a special promotion\"\n",
    "    elif current_internet == 'None':\n",
    "        recommendations['InternetService'] = \"Introduce internet service with a first-time customer discount\"\n",
    "\n",
    "    # ............................Recommendations based on other Additional services....................\n",
    "    if current_customer['OnlineSecurity'] == 0:\n",
    "        recommendations['OnlineSecurity'] = \"Add online security features to the package\"\n",
    "    if current_customer['TechSupport'] == 0:\n",
    "        recommendations['TechSupport'] = \"Include premium technical support\"\n",
    "    if current_customer['DeviceProtection'] == 0:\n",
    "        recommendations['DeviceProtection'] = \"Add device protection plan\"\n",
    "    if current_customer['OnlineBackup'] == 0:\n",
    "        recommendations['OnlineBackup'] = \"Include online backup service\"\n",
    "    if current_customer['StreamingTV'] == 0 & current_customer['StreamingMovies'] == 0:\n",
    "        recommendations['StreamingTV'] = \"Suggest TV & Movies streaming services at discounted prices\"\n",
    "    return recommendations"
   ]
  },
  {
   "cell_type": "code",
   "execution_count": 42,
   "id": "b2f58ee7-a679-4c9b-b24d-c62133b9ad12",
   "metadata": {},
   "outputs": [],
   "source": [
    "def get_customer_insights(customer_id, X, y, catboost_model):\n",
    "    if customer_id < 0 or customer_id >= len(X):\n",
    "        return \" !!! Invalid customer ID !!! \"\n",
    "\n",
    "    churn_prob = catboost_model.predict_proba(X.iloc[customer_id:customer_id+1])[0][1]\n",
    "    customer_data = X.iloc[customer_id]\n",
    "\n",
    "    customer_profiles = create_customer_profiles(X)\n",
    "    recommendations = generate_recommendations(X, y, customer_profiles, customer_id)\n",
    "    return {\n",
    "        'churn_probability': churn_prob,\n",
    "        'current_services': parse_current_services(customer_data),\n",
    "        'recommendations': recommendations if recommendations else {}\n",
    "    }\n",
    "\n",
    "def parse_current_services(customer_data):\n",
    "    services = {}\n",
    "    # Contract type\n",
    "    contract_cols = [col for col in customer_data.index if 'Contract_' in col]\n",
    "    for col in contract_cols:\n",
    "        if customer_data[col] == 1:\n",
    "            services['Contract'] = col.split('_')[1]\n",
    "\n",
    "    # Internet service\n",
    "    internet_cols = [col for col in customer_data.index if 'InternetService_' in col]\n",
    "    for col in internet_cols:\n",
    "        if customer_data[col] == 1:\n",
    "            services['InternetService'] = col.split('_')[1]\n",
    "\n",
    "    # Additional services\n",
    "    service_map = {\n",
    "        'OnlineSecurity': 'Online Security',\n",
    "        'OnlineBackup': 'Online Backup',\n",
    "        'DeviceProtection': 'Device Protection',\n",
    "        'TechSupport': 'Tech Support',\n",
    "        'StreamingTV': 'Streaming TV',\n",
    "        'StreamingMovies': 'Streaming Movies'    }\n",
    "\n",
    "    services['AdditionalServices'] = [readable for service, readable in service_map.items()\n",
    "                                     if customer_data[service] == 1]\n",
    "    return services"
   ]
  },
  {
   "cell_type": "code",
   "execution_count": 44,
   "id": "a5d65a77-c427-4417-8500-f32ebafcd0da",
   "metadata": {},
   "outputs": [
    {
     "name": "stdout",
     "output_type": "stream",
     "text": [
      "Welcome to the Customer Churn Prevention System\n",
      "This system will provide personalized recommendations to prevent customer churn.\n"
     ]
    },
    {
     "name": "stdin",
     "output_type": "stream",
     "text": [
      "\n",
      "Enter customer ID (between 1 to 7043 or (-1) to exit):  1701\n"
     ]
    },
    {
     "name": "stdout",
     "output_type": "stream",
     "text": [
      "\n",
      "Customer 1701 Analysis\n",
      "--------------------\n",
      "Costumer Churn Risk: High Risk (85.8% probability)\n",
      "\n",
      "Current Services:\n",
      "Contract Type: One year\n",
      "Internet Service: Fiber optic\n",
      "Additional Services: Online Backup, Device Protection, Streaming TV, Streaming Movies\n",
      "\n",
      "Recommendations to Prevent Churn:\n",
      "- Add online security features to the package\n",
      "- Include premium technical support\n"
     ]
    },
    {
     "name": "stdin",
     "output_type": "stream",
     "text": [
      "\n",
      "Enter customer ID (between 1 to 7043 or (-1) to exit):  613\n"
     ]
    },
    {
     "name": "stdout",
     "output_type": "stream",
     "text": [
      "\n",
      "Customer 613 Analysis\n",
      "--------------------\n",
      "Costumer Churn Risk: Low Risk (5.5% probability)\n",
      "\n",
      "Current Services:\n",
      "Contract Type: One year\n",
      "Internet Service: Fiber optic\n",
      "Additional Services: Online Security, Online Backup, Device Protection, Streaming TV, Streaming Movies\n",
      "\n",
      "Recommendations to Prevent Churn:\n",
      "- Include premium technical support\n"
     ]
    },
    {
     "name": "stdin",
     "output_type": "stream",
     "text": [
      "\n",
      "Enter customer ID (between 1 to 7043 or (-1) to exit):  38\n"
     ]
    },
    {
     "name": "stdout",
     "output_type": "stream",
     "text": [
      "\n",
      "Customer 38 Analysis\n",
      "--------------------\n",
      "Costumer Churn Risk: High Risk (97.4% probability)\n",
      "\n",
      "Current Services:\n",
      "Contract Type: Month-to-month\n",
      "Internet Service: Fiber optic\n",
      "Additional Services: Online Backup, Device Protection, Streaming TV, Streaming Movies\n",
      "\n",
      "No specific recommendations at this time.\n"
     ]
    },
    {
     "name": "stdin",
     "output_type": "stream",
     "text": [
      "\n",
      "Enter customer ID (between 1 to 7043 or (-1) to exit):  3942\n"
     ]
    },
    {
     "name": "stdout",
     "output_type": "stream",
     "text": [
      "\n",
      "Customer 3942 Analysis\n",
      "--------------------\n",
      "Costumer Churn Risk: High Risk (87.8% probability)\n",
      "\n",
      "Current Services:\n",
      "Contract Type: Month-to-month\n",
      "Internet Service: DSL\n",
      "Additional Services: None\n",
      "\n",
      "Recommendations to Prevent Churn:\n",
      "- Consider offering a discounted long-term contract\n",
      "- Upgrade to Fiber optic service with a special promotion\n",
      "- Add online security features to the package\n",
      "- Include premium technical support\n",
      "- Add device protection plan\n",
      "- Include online backup service\n",
      "- Suggest TV & Movies streaming services at discounted prices\n"
     ]
    },
    {
     "name": "stdin",
     "output_type": "stream",
     "text": [
      "\n",
      "Enter customer ID (between 1 to 7043 or (-1) to exit):  -1\n"
     ]
    },
    {
     "name": "stdout",
     "output_type": "stream",
     "text": [
      "Exiting recommender system...\n",
      "Thank you for using our services\n"
     ]
    }
   ],
   "source": [
    "def interactive_customer_recommendations():\n",
    "    while True:\n",
    "        try:\n",
    "            customer_id = int(input(\"\\nEnter customer ID (between 1 to 7043 or (-1) to exit): \"))\n",
    "            if customer_id == -1:\n",
    "                print(\"Exiting recommender system...\")\n",
    "                print(\"Thank you for using our services\")\n",
    "                break\n",
    "\n",
    "            insights = get_customer_insights(customer_id, X_res, y_res, catboost_model)\n",
    "            if isinstance(insights, str):\n",
    "                print(insights)\n",
    "                continue\n",
    "            print(f\"\\nCustomer {customer_id} Analysis\")\n",
    "            print(\"-\" * 20)\n",
    "\n",
    "#.................................Churn risk category........................................\n",
    "            churn_prob = insights['churn_probability']\n",
    "            if churn_prob < 0.3:\n",
    "                risk_category = \"Low Risk\"\n",
    "            elif churn_prob < 0.6:\n",
    "                risk_category = \"Medium Risk\"\n",
    "            else:\n",
    "                risk_category = \"High Risk\"\n",
    "            print(f\"Costumer Churn Risk: {risk_category} ({churn_prob:.1%} probability)\")\n",
    "\n",
    "#....................................Current services..........................................\n",
    "            print(\"\\nCurrent Services:\")\n",
    "            current = insights['current_services']\n",
    "            print(f\"Contract Type: {current['Contract']}\")\n",
    "            print(f\"Internet Service: {current.get('InternetService', 'None')}\")\n",
    "            if current['AdditionalServices']:\n",
    "                print(\"Additional Services:\", \", \".join(current['AdditionalServices']))\n",
    "            else:\n",
    "                print(\"Additional Services: None\")\n",
    "\n",
    "            if insights['recommendations']:\n",
    "                print(\"\\nRecommendations to Prevent Churn:\")\n",
    "                for category, recommendation in insights['recommendations'].items():\n",
    "                    print(f\"- {recommendation}\")\n",
    "            else:\n",
    "                print(\"\\nNo specific recommendations at this time.\")\n",
    "\n",
    "        except ValueError:\n",
    "            print(\"enter valid customer ID (numeric value)\")\n",
    "\n",
    "print(\"Welcome to the Customer Churn Prevention System\")\n",
    "print(\"This system will provide personalized recommendations to prevent customer churn.\")\n",
    "interactive_customer_recommendations()"
   ]
  },
  {
   "cell_type": "code",
   "execution_count": null,
   "id": "4a8a52cf-b5b8-46d7-9524-6dcd7a4b12b0",
   "metadata": {},
   "outputs": [],
   "source": []
  }
 ],
 "metadata": {
  "kernelspec": {
   "display_name": "Python 3 (ipykernel)",
   "language": "python",
   "name": "python3"
  },
  "language_info": {
   "codemirror_mode": {
    "name": "ipython",
    "version": 3
   },
   "file_extension": ".py",
   "mimetype": "text/x-python",
   "name": "python",
   "nbconvert_exporter": "python",
   "pygments_lexer": "ipython3",
   "version": "3.12.7"
  }
 },
 "nbformat": 4,
 "nbformat_minor": 5
}
